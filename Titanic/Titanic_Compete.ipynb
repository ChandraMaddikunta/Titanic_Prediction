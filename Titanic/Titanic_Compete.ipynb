{
 "cells": [
  {
   "cell_type": "markdown",
   "metadata": {},
   "source": [
    "* All the data files used in this Notebook are taken from Kaggle"
   ]
  },
  {
   "cell_type": "code",
   "execution_count": 3,
   "metadata": {},
   "outputs": [],
   "source": [
    "import pandas as pd\n",
    "import numpy as np\n",
    "from sklearn.ensemble import RandomForestClassifier\n",
    "from sklearn.metrics import f1_score\n",
    "from sklearn.preprocessing import LabelEncoder\n",
    "l = LabelEncoder()"
   ]
  },
  {
   "cell_type": "code",
   "execution_count": 4,
   "metadata": {},
   "outputs": [],
   "source": [
    "train_data = pd.read_csv('train.csv')\n",
    "train_data.dropna(how = 'all')\n",
    "train_data.dropna(axis= 1, how = 'all') \n",
    "test_data = pd.read_csv('test.csv')\n",
    "test_data.dropna(how = 'all')\n",
    "test_data.dropna(axis= 1, how = 'all')\n",
    "test_result = pd.read_csv('gender_submission.csv')"
   ]
  },
  {
   "cell_type": "code",
   "execution_count": 5,
   "metadata": {},
   "outputs": [],
   "source": [
    "train_2 = train_data.drop(['Survived'],axis=1)\n",
    "test_2 = test_data"
   ]
  },
  {
   "cell_type": "code",
   "execution_count": 7,
   "metadata": {},
   "outputs": [],
   "source": [
    "train_2['Name'] = l.fit_transform(train_2['Name']) # Encode all Names\n",
    "train_2['Sex'] = l.fit_transform(train_2['Sex']) #Encode all Genders\n",
    "train_2['Ticket'] = l.fit_transform(train_2['Ticket']) # Encode all Tickets\n",
    "train_2['Age'] = l.fit_transform(train_2['Age']) # Encode all Age\n",
    "train_2 = train_2.drop(['Cabin','Embarked'],axis=1)"
   ]
  },
  {
   "cell_type": "code",
   "execution_count": 8,
   "metadata": {},
   "outputs": [],
   "source": [
    "test_2['Name'] = l.fit_transform(test_2['Name']) # Encode all Names\n",
    "test_2['Sex'] = l.fit_transform(test_2['Sex']) #Encode all Genders\n",
    "test_2['Ticket'] = l.fit_transform(test_2['Ticket']) # Encode all Ticketsss\n",
    "test_2['Age'] = l.fit_transform(test_2['Age'])# Encode all Age\n",
    "test_2 = test_2.drop(['Cabin','Embarked'],axis=1)"
   ]
  },
  {
   "cell_type": "code",
   "execution_count": 9,
   "metadata": {},
   "outputs": [],
   "source": [
    "y_train_2 = train_data['Survived']\n",
    "test_2['Survived'] = test_result['Survived']\n",
    "test_2 = test_2.dropna(how = 'any')\n",
    "y_test_2 = test_2['Survived']\n",
    "test_2 = test_2.drop(['Survived'],axis=1)"
   ]
  },
  {
   "cell_type": "code",
   "execution_count": 11,
   "metadata": {},
   "outputs": [],
   "source": [
    "RF = RandomForestClassifier(n_estimators=50, class_weight='balanced')"
   ]
  },
  {
   "cell_type": "code",
   "execution_count": 12,
   "metadata": {},
   "outputs": [
    {
     "data": {
      "text/plain": [
       "0.8705035971223022"
      ]
     },
     "execution_count": 12,
     "metadata": {},
     "output_type": "execute_result"
    }
   ],
   "source": [
    "RF.fit(train_2,y_train_2)\n",
    "y_pred_2 = RF.predict(test_2)\n",
    "f1_score(y_test_2,y_pred_2,average='micro')"
   ]
  },
  {
   "cell_type": "code",
   "execution_count": 13,
   "metadata": {},
   "outputs": [
    {
     "data": {
      "text/plain": [
       "0.8705035971223022"
      ]
     },
     "execution_count": 13,
     "metadata": {},
     "output_type": "execute_result"
    }
   ],
   "source": [
    "f1_score(y_test_2,y_pred_2,average='micro')"
   ]
  }
 ],
 "metadata": {
  "kernelspec": {
   "display_name": "Python 3",
   "language": "python",
   "name": "python3"
  },
  "language_info": {
   "codemirror_mode": {
    "name": "ipython",
    "version": 3
   },
   "file_extension": ".py",
   "mimetype": "text/x-python",
   "name": "python",
   "nbconvert_exporter": "python",
   "pygments_lexer": "ipython3",
   "version": "3.6.7"
  }
 },
 "nbformat": 4,
 "nbformat_minor": 2
}
